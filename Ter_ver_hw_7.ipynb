{
 "cells": [
  {
   "cell_type": "markdown",
   "id": "aa01f5a7",
   "metadata": {},
   "source": [
    "1-4 задачи решать с помощью функций, 5ю вручную\n",
    "\n",
    "Выбрать тест и проверить, есть  ли различия между выборками:\n",
    "\n",
    "Задача №1  \n",
    "Даны две  независимые выборки. Не соблюдается условие нормальности\n",
    "\n",
    "x1  380,420, 290\n",
    "\n",
    "y1 140,360,200,900\n",
    "\n",
    "Сделайте вывод по результатам, полученным с помощью функции"
   ]
  },
  {
   "cell_type": "code",
   "execution_count": 12,
   "id": "4ddb3566",
   "metadata": {},
   "outputs": [
    {
     "data": {
      "text/plain": [
       "MannwhitneyuResult(statistic=8.0, pvalue=0.6285714285714286)"
      ]
     },
     "execution_count": 12,
     "metadata": {},
     "output_type": "execute_result"
    }
   ],
   "source": [
    "import scipy.stats as st\n",
    "import numpy as np\n",
    "\n",
    "x1 = np.array([380,420, 290])\n",
    "x2 = np.array([140,360,200,900])\n",
    "res1 = st.mannwhitneyu(x1, x2)\n",
    "res1"
   ]
  },
  {
   "cell_type": "markdown",
   "id": "6c042aa8",
   "metadata": {},
   "source": [
    "Вывод: Статистически значимых различий при уровне значимости 5% не обнаружено."
   ]
  },
  {
   "cell_type": "markdown",
   "id": "13a32a09",
   "metadata": {},
   "source": [
    "Задача №2  \n",
    "Исследовалось влияние препарата на уровень давления пациентов. Сначала измерялось давление до приема препарата, потом через 10 минут и через 30 минут. Есть ли статистически значимые различия?\n",
    "\n",
    "1е измерение до приема препарата: 150, 160, 165, 145, 155\n",
    "\n",
    "2е измерение через 10 минут: 140, 155, 150,  130, 135\n",
    "\n",
    "3е измерение через 30 минут: 130, 130, 120, 130, 125"
   ]
  },
  {
   "cell_type": "code",
   "execution_count": 13,
   "id": "8e44b643",
   "metadata": {},
   "outputs": [
    {
     "data": {
      "text/plain": [
       "FriedmanchisquareResult(statistic=9.578947368421062, pvalue=0.00831683351100441)"
      ]
     },
     "execution_count": 13,
     "metadata": {},
     "output_type": "execute_result"
    }
   ],
   "source": [
    "z1 = np.array([150, 160, 165, 145, 155])\n",
    "z2 = np.array([140, 155, 150, 130, 135])\n",
    "z3 = np.array([130, 130, 120, 130, 125])\n",
    "res2 = st.friedmanchisquare(z1, z2, z3)\n",
    "res2"
   ]
  },
  {
   "cell_type": "markdown",
   "id": "cb07f86b",
   "metadata": {},
   "source": [
    "Вывод: статистически значимые различия есть, препарат влияет на уровень давления."
   ]
  },
  {
   "cell_type": "markdown",
   "id": "14ea173c",
   "metadata": {},
   "source": [
    "Задача №3  \n",
    "Сравните 1 и 2 е измерения, предполагая, что 3го измерения через 30 минут не было."
   ]
  },
  {
   "cell_type": "code",
   "execution_count": 14,
   "id": "6bb9c807",
   "metadata": {},
   "outputs": [
    {
     "data": {
      "text/plain": [
       "WilcoxonResult(statistic=0.0, pvalue=0.0625)"
      ]
     },
     "execution_count": 14,
     "metadata": {},
     "output_type": "execute_result"
    }
   ],
   "source": [
    "res3 = st.wilcoxon(z1, z2)\n",
    "res3"
   ]
  },
  {
   "cell_type": "markdown",
   "id": "77f2f4a2",
   "metadata": {},
   "source": [
    "Вывод: Статистически значимых различий не обнаружено, препарат не влияет на уровень давления."
   ]
  },
  {
   "cell_type": "markdown",
   "id": "95b405a3",
   "metadata": {},
   "source": [
    "Задача №4  \n",
    "Даны 3 группы  учеников плавания.\n",
    "\n",
    "В 1 группе время на дистанцию 50 м составляют: 56, 60, 62, 55, 71, 67, 59, 58, 64, 67\n",
    "\n",
    "Вторая группа : 57, 58, 69, 48, 72, 70, 68, 71, 50, 53\n",
    "\n",
    "Третья группа: 57, 67, 49, 48, 47, 55, 66, 51, 54"
   ]
  },
  {
   "cell_type": "code",
   "execution_count": 15,
   "id": "f360d816",
   "metadata": {},
   "outputs": [
    {
     "data": {
      "text/plain": [
       "KruskalResult(statistic=5.465564058257224, pvalue=0.0650380998590494)"
      ]
     },
     "execution_count": 15,
     "metadata": {},
     "output_type": "execute_result"
    }
   ],
   "source": [
    "c1 = np.array([56, 60, 62, 55, 71, 67, 59, 58, 64, 67])\n",
    "c2 = np.array([57, 58, 69, 48, 72, 70, 68, 71, 50, 53])\n",
    "c3 = np.array([57, 67, 49, 48, 47, 55, 66, 51, 54])\n",
    "res4 = st.kruskal(c1, c2, c3)\n",
    "res4"
   ]
  },
  {
   "cell_type": "markdown",
   "id": "1179b2c4",
   "metadata": {},
   "source": [
    "Вопроса в задаче нет! Вывод: Статистически значимых различий не обнаружено. "
   ]
  },
  {
   "cell_type": "markdown",
   "id": "d9ca7e80",
   "metadata": {},
   "source": [
    "Задача №5  \n",
    "Заявляется, что партия изготавливается со средним арифметическим 2,5 см. \n",
    "Проверить данную гипотезу, если известно, что размеры изделий подчинены \n",
    "нормальному закону распределения. Объем выборки 10, уровень статистической значимости 5%\n",
    "\n",
    "2.51, 2.35, 2.74, 2.56, 2.40, 2.36, 2.65, 2.7, 2.67, 2.34"
   ]
  },
  {
   "cell_type": "code",
   "execution_count": 47,
   "id": "65be878b",
   "metadata": {},
   "outputs": [
    {
     "data": {
      "text/plain": [
       "2.5279999999999996"
      ]
     },
     "execution_count": 47,
     "metadata": {},
     "output_type": "execute_result"
    }
   ],
   "source": [
    "m = np.array([2.51, 2.35, 2.74, 2.56, 2.40, 2.36, 2.65, 2.7, 2.67, 2.34])\n",
    "sr = np.mean(m)\n",
    "sr"
   ]
  },
  {
   "cell_type": "code",
   "execution_count": 57,
   "id": "a0440714",
   "metadata": {},
   "outputs": [
    {
     "data": {
      "text/plain": [
       "0.475"
      ]
     },
     "execution_count": 57,
     "metadata": {},
     "output_type": "execute_result"
    }
   ],
   "source": [
    "alf = (1 - 0.05)/2\n",
    "alf"
   ]
  },
  {
   "cell_type": "code",
   "execution_count": 58,
   "id": "5751079e",
   "metadata": {},
   "outputs": [
    {
     "data": {
      "text/plain": [
       "0.1572542173961923"
      ]
     },
     "execution_count": 58,
     "metadata": {},
     "output_type": "execute_result"
    }
   ],
   "source": [
    "mu = np.std(m, ddof = 1)\n",
    "mu"
   ]
  },
  {
   "cell_type": "code",
   "execution_count": 59,
   "id": "b33a687d",
   "metadata": {},
   "outputs": [
    {
     "data": {
      "text/plain": [
       "0.5630613661802959"
      ]
     },
     "execution_count": 59,
     "metadata": {},
     "output_type": "execute_result"
    }
   ],
   "source": [
    "i = len(m)\n",
    "t = (sr - 2.5)/(mu/np.sqrt(i))\n",
    "t"
   ]
  },
  {
   "cell_type": "code",
   "execution_count": 60,
   "id": "42187526",
   "metadata": {},
   "outputs": [
    {
     "data": {
      "text/plain": [
       "-0.06447679010158362"
      ]
     },
     "execution_count": 60,
     "metadata": {},
     "output_type": "execute_result"
    }
   ],
   "source": [
    "k = st.t.ppf(alf, (i-1))\n",
    "k"
   ]
  },
  {
   "cell_type": "code",
   "execution_count": 61,
   "id": "965e6824",
   "metadata": {},
   "outputs": [
    {
     "data": {
      "text/plain": [
       "0.4128560006059372"
      ]
     },
     "execution_count": 61,
     "metadata": {},
     "output_type": "execute_result"
    }
   ],
   "source": [
    "l = 1 - 2*(1 - st.t.cdf(t, i-1))\n",
    "l"
   ]
  },
  {
   "cell_type": "code",
   "execution_count": 62,
   "id": "2317f5fd",
   "metadata": {},
   "outputs": [
    {
     "data": {
      "text/plain": [
       "1.4128560006059372"
      ]
     },
     "execution_count": 62,
     "metadata": {},
     "output_type": "execute_result"
    }
   ],
   "source": [
    "pv = 1 + l\n",
    "pv"
   ]
  },
  {
   "cell_type": "markdown",
   "id": "82372c07",
   "metadata": {},
   "source": [
    "Вывод: Наблюдаемое значение 0.563 попадает в интервал двухстороннего теста от -0.644 до 0.644 следовательно это нулевая гипотеза (что партия изготавливается со средним арифметическим 2,5 см)"
   ]
  },
  {
   "cell_type": "code",
   "execution_count": null,
   "id": "3c2fa088",
   "metadata": {},
   "outputs": [],
   "source": []
  }
 ],
 "metadata": {
  "kernelspec": {
   "display_name": "Python 3 (ipykernel)",
   "language": "python",
   "name": "python3"
  },
  "language_info": {
   "codemirror_mode": {
    "name": "ipython",
    "version": 3
   },
   "file_extension": ".py",
   "mimetype": "text/x-python",
   "name": "python",
   "nbconvert_exporter": "python",
   "pygments_lexer": "ipython3",
   "version": "3.9.13"
  }
 },
 "nbformat": 4,
 "nbformat_minor": 5
}
